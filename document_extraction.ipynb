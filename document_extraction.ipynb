{
 "cells": [
  {
   "cell_type": "code",
   "execution_count": 3,
   "id": "dc73d914-50d3-48ba-a4a9-badf7c431a13",
   "metadata": {
    "execution": {
     "iopub.execute_input": "2024-06-01T14:26:44.763424Z",
     "iopub.status.busy": "2024-06-01T14:26:44.760433Z",
     "iopub.status.idle": "2024-06-01T14:26:44.915154Z",
     "shell.execute_reply": "2024-06-01T14:26:44.914164Z",
     "shell.execute_reply.started": "2024-06-01T14:26:44.762453Z"
    },
    "tags": []
   },
   "outputs": [],
   "source": [
    "from langchain_community.document_loaders import PyPDFLoader\n",
    "from langchain.text_splitter import CharacterTextSplitter, RecursiveCharacterTextSplitter\n",
    "# from langchain_community.vectorstores import FAISS\n",
    "from langchain_community.embeddings import HuggingFaceEmbeddings\n",
    "from langchain_google_genai import ChatGoogleGenerativeAI\n",
    "from langchain_chroma import Chroma\n",
    "from langchain_core.runnables import RunnablePassthrough\n",
    "from langchain import hub\n",
    "from langchain_core.output_parsers import StrOutputParser\n",
    "import os"
   ]
  },
  {
   "cell_type": "markdown",
   "id": "7aa15c58-a353-425f-b658-f7ce00294c64",
   "metadata": {},
   "source": [
    "# LOAD & SPLIT DOCUMENT"
   ]
  },
  {
   "cell_type": "code",
   "execution_count": 3,
   "id": "d7b1bd25-7972-48f1-9b32-a32a8bba0e9e",
   "metadata": {
    "execution": {
     "iopub.execute_input": "2024-05-03T04:04:15.438431Z",
     "iopub.status.busy": "2024-05-03T04:04:15.437432Z",
     "iopub.status.idle": "2024-05-03T04:04:24.851217Z",
     "shell.execute_reply": "2024-05-03T04:04:24.848198Z",
     "shell.execute_reply.started": "2024-05-03T04:04:15.438431Z"
    },
    "tags": []
   },
   "outputs": [],
   "source": [
    "loader = PyPDFLoader(\"2023_Annual_Report.pdf\")\n",
    "pages = loader.load_and_split(text_splitter=RecursiveCharacterTextSplitter(chunk_size=1000, chunk_overlap=200))"
   ]
  },
  {
   "cell_type": "markdown",
   "id": "eed5842d-e01d-40dd-939f-34619d0ae8fd",
   "metadata": {},
   "source": [
    "# SAVE EMBEDDING"
   ]
  },
  {
   "cell_type": "code",
   "execution_count": null,
   "id": "e949ee18-490e-4fda-a615-e6acdcecef1c",
   "metadata": {
    "tags": []
   },
   "outputs": [],
   "source": [
    "vectorstore = Chroma.from_documents(documents=pages, embedding=HuggingFaceEmbeddings(), persist_directory=\"./chroma_db/GOOG_2023\")"
   ]
  },
  {
   "cell_type": "code",
   "execution_count": null,
   "id": "ba19a754-5065-44d8-bf48-dc2b4c75bae2",
   "metadata": {
    "tags": []
   },
   "outputs": [],
   "source": [
    "vectorstore = Chroma(persist_directory=\"./chroma_db\", embedding_function=HuggingFaceEmbeddings())"
   ]
  },
  {
   "cell_type": "markdown",
   "id": "a89ba354-6807-4523-a79d-1ae47061cbe9",
   "metadata": {},
   "source": [
    "# TESTING"
   ]
  },
  {
   "cell_type": "code",
   "execution_count": null,
   "id": "8762fe86-c01f-4d11-a740-8a71abc810c2",
   "metadata": {
    "tags": []
   },
   "outputs": [],
   "source": [
    "retriever = vectorstore.as_retriever()"
   ]
  },
  {
   "cell_type": "code",
   "execution_count": 19,
   "id": "0a129fd2-dd32-4b81-bd5d-afee89fedc62",
   "metadata": {
    "execution": {
     "iopub.execute_input": "2024-06-01T15:02:53.533455Z",
     "iopub.status.busy": "2024-06-01T15:02:53.533455Z",
     "iopub.status.idle": "2024-06-01T15:02:58.456718Z",
     "shell.execute_reply": "2024-06-01T15:02:58.456097Z",
     "shell.execute_reply.started": "2024-06-01T15:02:53.533455Z"
    },
    "tags": []
   },
   "outputs": [],
   "source": [
    "prompt = hub.pull(\"rlm/rag-prompt\")\n",
    "llm = ChatGoogleGenerativeAI(model=\"gemini-1.5-pro-latest\")"
   ]
  },
  {
   "cell_type": "code",
   "execution_count": 37,
   "id": "80bed3a3-c94f-4370-8a4d-1c83522fd9c9",
   "metadata": {
    "execution": {
     "iopub.execute_input": "2024-06-01T15:12:29.089206Z",
     "iopub.status.busy": "2024-06-01T15:12:29.088213Z",
     "iopub.status.idle": "2024-06-01T15:12:29.110281Z",
     "shell.execute_reply": "2024-06-01T15:12:29.108589Z",
     "shell.execute_reply.started": "2024-06-01T15:12:29.089206Z"
    },
    "tags": []
   },
   "outputs": [],
   "source": [
    "prompt.messages[0].prompt.template = \"\"\"You are an assistant specialized in answering investor questions about companies.\n",
    "Use the provided context to answer the question accurately and concisely.\n",
    "If the answer is not present in the context, state that the information is not available.\n",
    "Limit your response to five sentences.\n",
    "\n",
    "Question:\n",
    "{question}\n",
    "\n",
    "Context:\n",
    "{context}\n",
    "\n",
    "Answer:\n",
    "\"\"\""
   ]
  },
  {
   "cell_type": "code",
   "execution_count": 39,
   "id": "53620b42-77dc-4cce-a7d6-61fca5ade9b8",
   "metadata": {
    "execution": {
     "iopub.execute_input": "2024-06-01T15:12:35.100663Z",
     "iopub.status.busy": "2024-06-01T15:12:35.098659Z",
     "iopub.status.idle": "2024-06-01T15:12:35.109200Z",
     "shell.execute_reply": "2024-06-01T15:12:35.108201Z",
     "shell.execute_reply.started": "2024-06-01T15:12:35.100663Z"
    },
    "tags": []
   },
   "outputs": [],
   "source": [
    "def format_docs(docs):\n",
    "    return \"\\n\\n\".join(doc.page_content for doc in docs)"
   ]
  },
  {
   "cell_type": "code",
   "execution_count": 40,
   "id": "31e7a61a-744a-48e5-8874-162aaede9827",
   "metadata": {
    "execution": {
     "iopub.execute_input": "2024-06-01T15:12:35.631931Z",
     "iopub.status.busy": "2024-06-01T15:12:35.630927Z",
     "iopub.status.idle": "2024-06-01T15:12:35.651274Z",
     "shell.execute_reply": "2024-06-01T15:12:35.649265Z",
     "shell.execute_reply.started": "2024-06-01T15:12:35.631931Z"
    },
    "tags": []
   },
   "outputs": [],
   "source": [
    "rag_chain = (\n",
    "    {\"context\": retriever | format_docs, \"question\": RunnablePassthrough()}\n",
    "    | prompt\n",
    "    | llm\n",
    "    | StrOutputParser()\n",
    ")"
   ]
  },
  {
   "cell_type": "code",
   "execution_count": 41,
   "id": "83c63405-bce7-445a-95e3-79cae966f58b",
   "metadata": {
    "execution": {
     "iopub.execute_input": "2024-06-01T15:12:36.152758Z",
     "iopub.status.busy": "2024-06-01T15:12:36.151759Z",
     "iopub.status.idle": "2024-06-01T15:12:42.118134Z",
     "shell.execute_reply": "2024-06-01T15:12:42.117110Z",
     "shell.execute_reply.started": "2024-06-01T15:12:36.152758Z"
    },
    "tags": []
   },
   "outputs": [
    {
     "name": "stdout",
     "output_type": "stream",
     "text": [
      "The provided text focuses on Microsoft's past financial performance and does not outline a future business plan. While it mentions the company's commitment to AI and expanding its portfolio with AI capabilities, it does not detail specific plans or strategies.  The text primarily highlights financial results for different segments of Microsoft's business, including revenue and operating income.  To get a better understanding of Microsoft's future business plans, you should consult their investor relations materials or other public statements directly addressing future strategies. However, remember that even these statements may contain forward-looking information subject to risks and uncertainties. \n",
      "\n"
     ]
    }
   ],
   "source": [
    "response = rag_chain.invoke(\"Tell me the future business plan\")\n",
    "print(response)"
   ]
  },
  {
   "cell_type": "code",
   "execution_count": 42,
   "id": "6891453e-faef-4dcb-aa04-da4763ba6325",
   "metadata": {
    "execution": {
     "iopub.execute_input": "2024-06-01T15:12:55.796431Z",
     "iopub.status.busy": "2024-06-01T15:12:55.795436Z",
     "iopub.status.idle": "2024-06-01T15:13:02.934621Z",
     "shell.execute_reply": "2024-06-01T15:13:02.933669Z",
     "shell.execute_reply.started": "2024-06-01T15:12:55.796431Z"
    },
    "tags": []
   },
   "outputs": [
    {
     "name": "stdout",
     "output_type": "stream",
     "text": [
      "This text highlights the use of AI across Microsoft products but doesn't list specific AI products. For example, it mentions \"Copilot\" being integrated into products like Dynamics 365 and GitHub, but doesn't list stand-alone AI products. The text focuses on the application of AI capabilities rather than naming individual products. Therefore, the specific names of AI products developed are not available in this document. The document emphasizes Microsoft's commitment to AI integration across its existing product ecosystem. It highlights the use of AI in areas like Azure, Dynamics 365, and GitHub, enhancing their existing functionalities. \n",
      "\n"
     ]
    }
   ],
   "source": [
    "response = rag_chain.invoke(\"what are some AI product developed\")\n",
    "print(response)"
   ]
  },
  {
   "cell_type": "code",
   "execution_count": 43,
   "id": "6724bbed-00b8-4a11-a1a2-c62d27f7a9df",
   "metadata": {
    "execution": {
     "iopub.execute_input": "2024-06-01T15:13:21.869503Z",
     "iopub.status.busy": "2024-06-01T15:13:21.868500Z",
     "iopub.status.idle": "2024-06-01T15:13:25.481736Z",
     "shell.execute_reply": "2024-06-01T15:13:25.478763Z",
     "shell.execute_reply.started": "2024-06-01T15:13:21.869503Z"
    },
    "tags": []
   },
   "outputs": [
    {
     "name": "stdout",
     "output_type": "stream",
     "text": [
      "The current management team consists of Satya Nadella as the Chairman and Chief Executive Officer, and Amy E. Hood as the Executive Vice President and Chief Financial Officer.  Other notable executives include Judson B. Althoff, Executive Vice President and Chief Commercial Officer, and Bradford L. Smith, Vice Chair and President.  This information is based on the \"Directors and Executive Officers of Microsoft Corporation\" section of the provided context.  For a complete list of management, please refer to the full context. \n",
      "\n"
     ]
    }
   ],
   "source": [
    "response = rag_chain.invoke(\"who are the current managements\")\n",
    "print(response)"
   ]
  },
  {
   "cell_type": "code",
   "execution_count": 44,
   "id": "c257b801-b416-4849-86a8-48e43a5b6f37",
   "metadata": {
    "execution": {
     "iopub.execute_input": "2024-06-01T15:13:57.858684Z",
     "iopub.status.busy": "2024-06-01T15:13:57.857671Z",
     "iopub.status.idle": "2024-06-01T15:14:01.843577Z",
     "shell.execute_reply": "2024-06-01T15:14:01.838581Z",
     "shell.execute_reply.started": "2024-06-01T15:13:57.858684Z"
    },
    "tags": []
   },
   "outputs": [
    {
     "name": "stdout",
     "output_type": "stream",
     "text": [
      "Satya Nadella is the Chairman and Chief Executive Officer of Microsoft Corporation. He is also the Chairman of the Board of Directors.  Additional background information regarding Satya Nadella is not available in the provided document. \n",
      "\n"
     ]
    }
   ],
   "source": [
    "response = rag_chain.invoke(\"Satya Nadella background\")\n",
    "print(response)"
   ]
  },
  {
   "cell_type": "code",
   "execution_count": 45,
   "id": "0c981b3f-3d12-4864-b922-d2eaa7349876",
   "metadata": {
    "execution": {
     "iopub.execute_input": "2024-06-01T15:14:20.197060Z",
     "iopub.status.busy": "2024-06-01T15:14:20.195034Z",
     "iopub.status.idle": "2024-06-01T15:14:24.259067Z",
     "shell.execute_reply": "2024-06-01T15:14:24.253979Z",
     "shell.execute_reply.started": "2024-06-01T15:14:20.197060Z"
    },
    "tags": []
   },
   "outputs": [
    {
     "name": "stdout",
     "output_type": "stream",
     "text": [
      "Microsoft's revenue for fiscal year 2023 increased by $13.6 billion or 7% compared to fiscal year 2022. This growth was driven by their Intelligent Cloud and Productivity and Business Processes segments. However, this was partially offset by a decline in their More Personal Computing segment.  Their Intelligent Cloud revenue increased due to growth in Azure and other cloud services, while Productivity and Business Processes revenue increased due to growth in Office 365 Commercial and LinkedIn. The decline in More Personal Computing revenue was attributed to decreased revenue in Windows and Devices. \n",
      "\n"
     ]
    }
   ],
   "source": [
    "response = rag_chain.invoke(\"2023 business performance\")\n",
    "print(response)"
   ]
  },
  {
   "cell_type": "code",
   "execution_count": null,
   "id": "bb799c44-e5a3-4eef-b73d-797c941d87c0",
   "metadata": {},
   "outputs": [],
   "source": []
  }
 ],
 "metadata": {
  "kernelspec": {
   "display_name": "Python 3 (ipykernel)",
   "language": "python",
   "name": "python3"
  },
  "language_info": {
   "codemirror_mode": {
    "name": "ipython",
    "version": 3
   },
   "file_extension": ".py",
   "mimetype": "text/x-python",
   "name": "python",
   "nbconvert_exporter": "python",
   "pygments_lexer": "ipython3",
   "version": "3.9.13"
  }
 },
 "nbformat": 4,
 "nbformat_minor": 5
}
